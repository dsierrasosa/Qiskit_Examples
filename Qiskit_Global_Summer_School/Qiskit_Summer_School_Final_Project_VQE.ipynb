{
 "cells": [
  {
   "cell_type": "code",
   "execution_count": 1,
   "metadata": {
    "colab": {
     "base_uri": "https://localhost:8080/",
     "height": 52
    },
    "colab_type": "code",
    "id": "Fi5Lmuy1X65t",
    "outputId": "7188e03a-ab1d-4828-a33b-6852847444b0"
   },
   "outputs": [],
   "source": [
    "from qiskit import BasicAer, Aer, IBMQ\n",
    "from qiskit.aqua import QuantumInstance, aqua_globals\n",
    "from qiskit.aqua.algorithms import VQE, ExactEigensolver, NumPyEigensolver\n",
    "from qiskit.aqua.components.initial_states import Zero\n",
    "from qiskit.aqua.components.optimizers import COBYLA, L_BFGS_B, SLSQP, SPSA\n",
    "from qiskit.aqua.components.variational_forms import RY, RYRZ, SwapRZ\n",
    "from qiskit.aqua.operators import WeightedPauliOperator, Z2Symmetries\n",
    "from qiskit.chemistry import FermionicOperator\n",
    "from qiskit.chemistry.drivers import PySCFDriver, UnitsType\n",
    "from qiskit.chemistry.components.variational_forms import UCCSD\n",
    "from qiskit.chemistry.components.initial_states import HartreeFock\n",
    "from qiskit.ignis.mitigation import CompleteMeasFitter\n",
    "from qiskit.providers.aer import QasmSimulator\n",
    "from qiskit.providers.aer.noise import NoiseModel\n",
    "from qiskit.providers.aer.noise.errors import QuantumError, ReadoutError\n",
    "from qiskit.providers.aer.noise.errors import pauli_error\n",
    "from qiskit.providers.aer.noise.errors import depolarizing_error\n",
    "from qiskit.providers.aer.noise.errors import thermal_relaxation_error\n",
    "\n",
    "from qiskit.providers.aer import noise\n",
    "# IBMQ.save_account('991b2673aee106418137b8c38f696ec1d7f503d32b60a09b99c055317110e424b71db909587cc262c804eaac8cb2e3af4004b2c0632ff4965d3fe66358d09f72')\n",
    "provider = IBMQ.load_account()\n",
    "\n",
    "import numpy as np\n",
    "import matplotlib.pyplot as plt\n",
    "from functools import partial"
   ]
  },
  {
   "cell_type": "markdown",
   "metadata": {
    "colab_type": "text",
    "id": "iEnirMwJX66B"
   },
   "source": [
    "# Qiskit Summer School Final Project: VQE\n",
    "\n",
    "#### For this optional final challenge, you will be designing your own implementation of a variational quantum eigensolver (VQE) algorithm that simulates the ground state energy of the Lithium Hydride (LiH) molecule. Through out this challenge, you will be able to make choices on how you want to compose your simulation and what is the final deliverable that you want to showcase to your classmates and friends."
   ]
  },
  {
   "cell_type": "markdown",
   "metadata": {
    "colab_type": "text",
    "id": "3Oy4TlUXX66D"
   },
   "source": [
    "# Defining your molecule:\n",
    "In this challenge we will focus on LiH using the sto3g basis with the PySCF driver, which can be described in Qiskit as follows, where 'inter_dist' is the interatomic distance."
   ]
  },
  {
   "cell_type": "code",
   "execution_count": 2,
   "metadata": {
    "colab": {},
    "colab_type": "code",
    "id": "sMMMFzxiX66G"
   },
   "outputs": [],
   "source": [
    "#driver = PySCFDriver(atom='Li .0 .0 .0; H .0 .0' + str(inter_dist), unit=UnitsType.ANGSTROM, charge=0, spin=0, basis='sto3g')"
   ]
  },
  {
   "cell_type": "markdown",
   "metadata": {
    "colab_type": "text",
    "id": "xKWIjsNoX66Q"
   },
   "source": [
    "We also setup the molecular orbitals to be considered and can reduce the problem size when we map to the qubit Hamiltonian so the amount of time required for the simulations are reasonable for a laptop computer."
   ]
  },
  {
   "cell_type": "code",
   "execution_count": 3,
   "metadata": {
    "colab": {},
    "colab_type": "code",
    "id": "X6k80aYhX66R"
   },
   "outputs": [],
   "source": [
    "# please be aware that the idx here with respective to original idx\n",
    "freeze_list = [0]\n",
    "remove_list = [-3, -2] # negative number denotes the reverse order"
   ]
  },
  {
   "cell_type": "markdown",
   "metadata": {
    "colab_type": "text",
    "id": "rz74qUcsX66j"
   },
   "source": [
    "#### Once you have computed the qubit operations for LiH, you can use the following function to classical solve for the exact solution. This is used just to compare how well your VQE approximation is performing."
   ]
  },
  {
   "cell_type": "code",
   "execution_count": 4,
   "metadata": {
    "colab": {},
    "colab_type": "code",
    "id": "CzZEWY6mX66m"
   },
   "outputs": [],
   "source": [
    "#Classically solve for the lowest eigenvalue\n",
    "def exact_solver(qubitOp):\n",
    "    ee = ExactEigensolver(qubitOp)\n",
    "    result = ee.run()\n",
    "    ref = result['energy']\n",
    "    print('Reference value: {}'.format(ref))\n",
    "    return ref"
   ]
  },
  {
   "cell_type": "markdown",
   "metadata": {
    "colab_type": "text",
    "id": "g0ggo7iqX66w"
   },
   "source": [
    "Here we ask you to use the `statevector_simulator` as the simulation backend for your VQE algorithm."
   ]
  },
  {
   "cell_type": "code",
   "execution_count": 5,
   "metadata": {
    "colab": {},
    "colab_type": "code",
    "id": "xZa-NbesX66y"
   },
   "outputs": [],
   "source": [
    "backend = BasicAer.get_backend('statevector_simulator')"
   ]
  },
  {
   "cell_type": "markdown",
   "metadata": {
    "colab_type": "text",
    "id": "IoEe19caX667"
   },
   "source": [
    "### Now you can start choosing the components that make up your VQE algorithm!\n",
    "\n",
    "#### 1. Optimizers\n",
    "The most commonly used optimizers are `COBYLA`, `L_BFGS_B`, `SLSQP` and `SPSA`. \n",
    "\n",
    "#### 2. Qubit mapping\n",
    "There are several different mappings for your qubit Hamiltonian, `parity`, `bravyi_kitaev`, `jordan_wigner`, which in some cases can allow you to further reduce the problem size.\n",
    "\n",
    "#### 3. Initial state\n",
    "There are different initial state that you can choose to start your simulation. Typically people choose from the zero state \n",
    "`init_state = Zero(qubitOp.num_qubits)` \n",
    "and the UCCSD initial state\n",
    "`HartreeFock(qubitOp.num_qubits, num_spin_orbitals, num_particles, map_type, qubit_reduction)`\n",
    "\n",
    "#### 4. Parameterized circuit\n",
    "There are different choices you can make on the form of variational forms of your parameterized circuit.\n",
    "\n",
    "`UCCSD_var_form = UCCSD(num_qubits, depth=depth, num_orbitals=num_spin_orbitals, num_particles=num_particles)`\n",
    "    \n",
    "`RY_var_form = RY(num_qubits, depth=depth)`\n",
    "    \n",
    "`RYRZ_var_form = RYRZ(num_qubits, depth=depth)`\n",
    "    \n",
    "`swaprz_var_form = SwapRZ(num_qubits, depth=depth)`\n",
    "\n",
    "#### 5. Simulation backend\n",
    "There are different simulation backends that you can use to perform your simulation\n",
    "\n",
    "`backend = BasicAer.get_backend('statevector_simulator')`\n",
    "\n",
    "`backend=Aer.get_backend('qasm_simulator')`"
   ]
  },
  {
   "cell_type": "markdown",
   "metadata": {
    "colab_type": "text",
    "id": "Pcw-2q2gX668"
   },
   "source": [
    "### Compare the convergence of different choices for building your VQE algorithm\n",
    "\n",
    "Among the above choices, which combination do you think would out perform others and give you the lowest estimation of LiH ground state energy with the quickest convergence? Compare the results of different combinations against each other and against the classically computed exact solution at a fixed interatomic distance, for example `inter_dist=1.6`. \n",
    "\n",
    "To access the intermediate data during the optimization, you would need to utilize the `callback` option in the VQE function:\n",
    "\n",
    "`def store_intermediate_result(eval_count, parameters, mean, std):\n",
    "            counts.append(eval_count)\n",
    "            values.append(mean)\n",
    "            params.append(parameters)\n",
    "            deviation.append(std)`\n",
    "            \n",
    "`algo = VQE(qubitOp, var_form, optimizer, callback=store_intermediate_result)`\n",
    "\n",
    "`algo_result = algo.run(quantum_instance)`\n",
    "\n",
    "An example of comparing the performance of different optimizers while using the RY variational ansatz could like the following:\n",
    "![RY_error.png](attachment:RY_error.png)\n",
    "![RY_convergence.png](attachment:RY_convergence.png)"
   ]
  },
  {
   "cell_type": "markdown",
   "metadata": {
    "colab_type": "text",
    "id": "MEXKzVioX669"
   },
   "source": [
    "### Compute the ground state energy of LiH at various different interatomic distances\n",
    "By changing the parameter `inter_dist`, you can use your VQE algorithm to calculate the ground state energy of LiH at various interatomic distances, and potentially produce a plot as you are seeing here. Note that the VQE results are very close to the exact results, and so the exact energy curve is hidden by the VQE curve.\n",
    "<img src=\"attachment:VQE_dist.png\" width=\"600\">"
   ]
  },
  {
   "cell_type": "markdown",
   "metadata": {
    "colab_type": "text",
    "id": "0YLUOCrdX66_"
   },
   "source": [
    "### How does your VQE algorithm perform in the presence of noise?\n",
    "Trying importing the noise model and qubit coupling map of a real IBM quantum device into your simulation. You can use the imported noise model in your simulation by passing it into your quantum instance. You can also try enabling error mitigation in order to lower the effect of noise on your simulation results."
   ]
  },
  {
   "cell_type": "code",
   "execution_count": 6,
   "metadata": {
    "colab": {},
    "colab_type": "code",
    "id": "xnQMmCAAX67B"
   },
   "outputs": [
    {
     "name": "stderr",
     "output_type": "stream",
     "text": [
      "/home/nemo/.local/lib/python3.6/site-packages/qiskit/providers/aer/noise/device/basic_device_model.py:115: DeprecationWarning: This function is been deprecated and moved to a method of the`NoiseModel` class. For equivalent functionality use `NoiseModel.from_backend(properties, **kwargs).\n",
      "  DeprecationWarning)\n"
     ]
    }
   ],
   "source": [
    "#Define our noise model based on the ibmq_essex chip\n",
    "chip_name = 'ibmq_essex'\n",
    "device = provider.get_backend(chip_name)\n",
    "coupling_map = device.configuration().coupling_map\n",
    "noise_model = noise.device.basic_device_noise_model(device.properties())\n",
    "basis_gates = noise_model.basis_gates"
   ]
  },
  {
   "cell_type": "markdown",
   "metadata": {
    "colab_type": "text",
    "id": "LG5Cr4F4X67J"
   },
   "source": [
    "An example of comparing the energy convergence of using SPSA and COBYLA with the ibmq_essex noise model could look like the following\n",
    "![noise.png](attachment:noise.png)"
   ]
  },
  {
   "cell_type": "markdown",
   "metadata": {
    "colab_type": "text",
    "id": "jNq7aj1KX67K"
   },
   "source": [
    "### Now given the choices you have made above, try writing your own VQE algorithm in Qiskit. You can find an example of using Qiskit to simuate molecules with VQE [here](https://qiskit.org/textbook/ch-applications/vqe-molecules.html)."
   ]
  },
  {
   "cell_type": "code",
   "execution_count": 48,
   "metadata": {
    "colab": {
     "base_uri": "https://localhost:8080/",
     "height": 121
    },
    "colab_type": "code",
    "id": "N68bJ4IFX67M",
    "outputId": "3c51b919-7d28-45c4-d0ba-692c66dc2c2e"
   },
   "outputs": [
    {
     "name": "stdout",
     "output_type": "stream",
     "text": [
      "HF energy: -8.854072040283647\n",
      "# of electrons: 4\n",
      "# of spin orbitals: 12\n",
      "Reference value: -1.0770597457346944\n",
      "Energy found   : -0.45592034476085\n",
      "294.8932943344116 seconds\n"
     ]
    }
   ],
   "source": [
    "import warnings\n",
    "warnings.filterwarnings(\"ignore\", category=DeprecationWarning) \n",
    "# Classically solve for the lowest eigenvalue\n",
    "# This is used just to compare how well you VQE approximation is performing\n",
    "def exact_solver(qubitOp):\n",
    "    #ee = ExactEigensolver(qubitOp)\n",
    "    ee = NumPyEigensolver(qubitOp)\n",
    "    result = ee.run()\n",
    "    #ref = result['energy']\n",
    "    ref = np.real(result['eigenvalues'][0])\n",
    "    print('Reference value: {}'.format(ref))\n",
    "    return ref\n",
    "\n",
    "# Define your function for computing the qubit operations of LiH\n",
    "def compute_LiH_qubitOp(map_type, inter_dist, basis='sto3g'):\n",
    "    \n",
    "    # Specify details of our molecule\n",
    "    driver = PySCFDriver(atom='Li .0 .0 .0; H .0 .0 ' + str(inter_dist), unit=UnitsType.ANGSTROM, charge=0, spin=0, basis=basis)\n",
    "\n",
    "    # Compute relevant 1 and 2 body integrals.\n",
    "    molecule = driver.run()\n",
    "    h1 = molecule.one_body_integrals\n",
    "    h2 = molecule.two_body_integrals\n",
    "    nuclear_repulsion_energy = molecule.nuclear_repulsion_energy\n",
    "    \n",
    "    num_particles = molecule.num_alpha + molecule.num_beta\n",
    "    num_spin_orbitals = molecule.num_orbitals * 2\n",
    "    print(\"HF energy: {}\".format(molecule.hf_energy - molecule.nuclear_repulsion_energy))\n",
    "    print(\"# of electrons: {}\".format(num_particles))\n",
    "    print(\"# of spin orbitals: {}\".format(num_spin_orbitals))\n",
    "\n",
    "    # Please be aware that the idx here with respective to original idx\n",
    "    freeze_list = [0]\n",
    "    remove_list = [-3, -2] # negative number denotes the reverse order\n",
    "    \n",
    "    # Prepare full idx of freeze_list and remove_list\n",
    "    # Convert all negative idx to positive\n",
    "    remove_list = [x % molecule.num_orbitals for x in remove_list]\n",
    "    freeze_list = [x % molecule.num_orbitals for x in freeze_list]\n",
    "    \n",
    "    # Update the idx in remove_list of the idx after frozen, since the idx of orbitals are changed after freezing\n",
    "    remove_list = [x - len(freeze_list) for x in remove_list]\n",
    "    remove_list += [x + molecule.num_orbitals - len(freeze_list)  for x in remove_list]\n",
    "    freeze_list += [x + molecule.num_orbitals for x in freeze_list]\n",
    "\n",
    "    # Prepare fermionic hamiltonian with orbital freezing and eliminating, and then map to qubit hamiltonian\n",
    "    # and if PARITY mapping is selected, reduction qubits\n",
    "    energy_shift = 0.0\n",
    "    qubit_reduction = True if map_type == 'parity' else False\n",
    "\n",
    "    ferOp = FermionicOperator(h1=h1, h2=h2)\n",
    "    if len(freeze_list) > 0:\n",
    "        ferOp, energy_shift = ferOp.fermion_mode_freezing(freeze_list)\n",
    "        num_spin_orbitals -= len(freeze_list)\n",
    "        num_particles -= len(freeze_list)\n",
    "    if len(remove_list) > 0:\n",
    "        ferOp = ferOp.fermion_mode_elimination(remove_list)\n",
    "        num_spin_orbitals -= len(remove_list)\n",
    "\n",
    "    qubitOp = ferOp.mapping(map_type=map_type)\n",
    "    qubitOp = Z2Symmetries.two_qubit_reduction(qubitOp, num_particles) if qubit_reduction else qubitOp\n",
    "    qubitOp.chop(10**-10)\n",
    "\n",
    "    return qubitOp, num_spin_orbitals, num_particles, qubit_reduction\n",
    "\n",
    "map_type = 'parity'\n",
    "inter_dist = 1.6\n",
    "\n",
    "qubitOp, num_spin_orbitals, num_particles, qubit_reduction = compute_LiH_qubitOp(map_type, inter_dist)\n",
    "# Classically solve for the exact solution and use that as your reference value\n",
    "ref = exact_solver(qubitOp)\n",
    "\n",
    "# Specify your initial state\n",
    "init_state =  HartreeFock(num_spin_orbitals, num_particles, map_type, qubit_reduction)#Zero(qubitOp.num_qubits)#\n",
    "\n",
    "# Select a state preparation ansatz\n",
    "# Equivalently, choose a parameterization for our trial wave function.\n",
    "\n",
    "from qiskit.circuit.library import EfficientSU2\n",
    "\n",
    "# var_form = EfficientSU2(num_qubits=qubitOp.num_qubits, \n",
    "#                        entanglement='sca', \n",
    "#                        reps=2, \n",
    "#                        skip_final_rotation_layer=True, \n",
    "#                        initial_state=init_state\n",
    "#                        )\n",
    "var_form = RYRZ(num_qubits=qubitOp.num_qubits, \n",
    "                     depth=3, \n",
    "                     entangler_map=[[0,1], [1,2], [1,3]], \n",
    "                     entanglement='linear',\n",
    "                     initial_state=init_state,\n",
    "                     entanglement_gate='cz', \n",
    "                     skip_unentangled_qubits=False)\n",
    "\n",
    "# var_form =UCCSD(\n",
    "#         num_orbitals=num_spin_orbitals,\n",
    "#         num_particles=num_particles,\n",
    "#         initial_state=init_state,\n",
    "#         qubit_mapping='parity')\n",
    "\n",
    "    \n",
    "# Choose where to run/simulate our circuit\n",
    "# backend = Aer.get_backend('qasm_simulator')\n",
    "\n",
    "# from qiskit.ignis.mitigation import CompleteMeasFitter\n",
    "# quantum_instance = QuantumInstance(backend=backend, \n",
    "#                                    shots=1000,\n",
    "#                                    noise_model=noise_model, \n",
    "#                                    coupling_map=coupling_map,\n",
    "#                                    measurement_error_mitigation_cls=CompleteMeasFitter,\n",
    "#                                    basis_gates=basis_gates,\n",
    "#                                    optimization_level=3\n",
    "#                                   )\n",
    "backend = Aer.get_backend('qasm_simulator')\n",
    "#     backend = QasmSimulator()\n",
    "#     backend_options = {\"method\": \"statevector_gpu\"}\n",
    "\n",
    "quantum_instance = QuantumInstance(backend=backend,\n",
    "                               backend_options={\n",
    "#                                                \"optimize_noise_threshold\":4,\n",
    "                                               \"zero_threshold\":1e-3,\n",
    "                                                \"max_parallel_experiments\":0,\n",
    "#                                                \"optimize_ideal_threshold\":4\n",
    "                                               },\n",
    "                               shots=1024,\n",
    "                               noise_model=noise_model, \n",
    "                               coupling_map=coupling_map,\n",
    "                               measurement_error_mitigation_cls=CompleteMeasFitter,\n",
    "                               basis_gates=basis_gates,\n",
    "                               cals_matrix_refresh_period=30,\n",
    "                               optimization_level=3,\n",
    "                               )\n",
    "\n",
    "\n",
    "# Choose the classical optimizer\n",
    "# optimizer = COBYLA(maxiter=600, tol=0.0001)\n",
    "#optimizer = SLSQP(maxiter=600)\n",
    "\n",
    "# optimizer = COBYLA(maxiter=300, tol = 1e-04)\n",
    "\n",
    "optimizer = L_BFGS_B(maxiter=50, epsilon=1e-3)\n",
    "# optimizer = SPSA(max_trials= 100, last_avg = 5,c0=0.6283185307179586, c1=0.1, c2=0.101, c3=0.101, c4=0,)\n",
    "\n",
    "# Run your VQE instance\n",
    "vqe = VQE(qubitOp, var_form, optimizer, quantum_instance=quantum_instance)\n",
    "\n",
    "import time\n",
    "start = time.time()\n",
    "\n",
    "# Now compare the results of different compositions of your VQE algorithm!\n",
    "vqe_result = np.real(vqe.run(quantum_instance)['eigenvalue'])\n",
    "print('Energy found   :',vqe_result)\n",
    "\n",
    "end = time.time()\n",
    "print(end - start,'seconds')\n"
   ]
  },
  {
   "cell_type": "code",
   "execution_count": null,
   "metadata": {
    "colab": {
     "base_uri": "https://localhost:8080/",
     "height": 69
    },
    "colab_type": "code",
    "id": "4qzfzbEqX67V",
    "outputId": "556f0c8e-c7d4-47ec-c087-8a0b34fef575"
   },
   "outputs": [
    {
     "name": "stdout",
     "output_type": "stream",
     "text": [
      "[[0, 1], [1, 2], [2, 3]]\n",
      "[[0, 1], [1, 2], [2, 3]]\n"
     ]
    },
    {
     "data": {
      "text/plain": [
       "[[0, 1], [1, 2], [2, 3]]"
      ]
     },
     "execution_count": 19,
     "metadata": {
      "tags": []
     },
     "output_type": "execute_result"
    }
   ],
   "source": [
    "UCCSD_var_form = UCCSD(num_orbitals=num_spin_orbitals, num_particles=num_particles, qubit_mapping='parity')\n",
    "print(UCCSD_var_form.get_entangler_map(map_type='linear',num_qubits=qubitOp.num_qubits))\n",
    "swaprz_var_form = SwapRZ(qubitOp.num_qubits)\n",
    "print(swaprz_var_form.get_entangler_map(map_type='linear',num_qubits=qubitOp.num_qubits))\n",
    "\n",
    "UCCSD_var_form.validate_entangler_map([[0, 1], [1, 2], [1, 3]], qubitOp.num_qubits)\n",
    "UCCSD_var_form.get_entangler_map(map_type='linear',num_qubits=qubitOp.num_qubits)\n",
    "#print(var_form.setting)"
   ]
  },
  {
   "cell_type": "code",
   "execution_count": 47,
   "metadata": {
    "colab": {
     "base_uri": "https://localhost:8080/",
     "height": 34
    },
    "colab_type": "code",
    "id": "Aey2dIHhX67d",
    "outputId": "423379ee-3965-4a39-8bd5-fb5bec3360bf"
   },
   "outputs": [
    {
     "data": {
      "text/plain": [
       "-1.07705974573469"
      ]
     },
     "execution_count": 47,
     "metadata": {
      "tags": []
     },
     "output_type": "execute_result"
    }
   ],
   "source": [
    "ref"
   ]
  },
  {
   "cell_type": "code",
   "execution_count": null,
   "metadata": {
    "colab": {},
    "colab_type": "code",
    "id": "1_yf2qYzX67k"
   },
   "outputs": [],
   "source": [
    "import qiskit.tools.jupyter\n",
    "%qiskit_version_table\n",
    "%qiskit_copyright"
   ]
  },
  {
   "cell_type": "code",
   "execution_count": null,
   "metadata": {
    "colab": {},
    "colab_type": "code",
    "id": "U592H6gGX67x"
   },
   "outputs": [],
   "source": []
  }
 ],
 "metadata": {
  "colab": {
   "name": "Qiskit Summer School Final Project VQE.ipynb",
   "provenance": []
  },
  "kernelspec": {
   "display_name": "Python 3",
   "language": "python",
   "name": "python3"
  },
  "language_info": {
   "codemirror_mode": {
    "name": "ipython",
    "version": 3
   },
   "file_extension": ".py",
   "mimetype": "text/x-python",
   "name": "python",
   "nbconvert_exporter": "python",
   "pygments_lexer": "ipython3",
   "version": "3.6.9"
  }
 },
 "nbformat": 4,
 "nbformat_minor": 4
}
